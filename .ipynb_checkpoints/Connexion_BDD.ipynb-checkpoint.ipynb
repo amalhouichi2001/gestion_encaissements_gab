{
 "cells": [
  {
   "cell_type": "code",
   "execution_count": 2,
   "id": "42d9deb5-8f48-4e8d-aa5d-07a771c1c27e",
   "metadata": {},
   "outputs": [
    {
     "name": "stdout",
     "output_type": "stream",
     "text": [
      "Collecting psycopg2-binaryNote: you may need to restart the kernel to use updated packages.\n",
      "\n",
      "  Downloading psycopg2_binary-2.9.10-cp313-cp313-win_amd64.whl.metadata (4.8 kB)\n",
      "Downloading psycopg2_binary-2.9.10-cp313-cp313-win_amd64.whl (2.6 MB)\n",
      "   ---------------------------------------- 0.0/2.6 MB ? eta -:--:--\n",
      "   ---------------------------------------- 0.0/2.6 MB ? eta -:--:--\n",
      "   ---- ----------------------------------- 0.3/2.6 MB ? eta -:--:--\n",
      "   -------- ------------------------------- 0.5/2.6 MB 812.4 kB/s eta 0:00:03\n",
      "   ---------------- ----------------------- 1.0/2.6 MB 1.4 MB/s eta 0:00:02\n",
      "   ------------------------ --------------- 1.6/2.6 MB 1.7 MB/s eta 0:00:01\n",
      "   -------------------------------- ------- 2.1/2.6 MB 1.8 MB/s eta 0:00:01\n",
      "   ---------------------------------------- 2.6/2.6 MB 1.9 MB/s eta 0:00:00\n",
      "Installing collected packages: psycopg2-binary\n",
      "Successfully installed psycopg2-binary-2.9.10\n"
     ]
    },
    {
     "name": "stderr",
     "output_type": "stream",
     "text": [
      "\n",
      "[notice] A new release of pip is available: 24.3.1 -> 25.0.1\n",
      "[notice] To update, run: python.exe -m pip install --upgrade pip\n"
     ]
    }
   ],
   "source": [
    "pip install psycopg2-binary\n"
   ]
  },
  {
   "cell_type": "code",
   "execution_count": 3,
   "id": "b8f95523-b368-4e7f-8102-af65ea40e57e",
   "metadata": {},
   "outputs": [
    {
     "name": "stdout",
     "output_type": "stream",
     "text": [
      "Psycopg2 installé avec succès !\n"
     ]
    }
   ],
   "source": [
    "import psycopg2\n",
    "print(\"Psycopg2 installé avec succès !\")\n"
   ]
  },
  {
   "cell_type": "code",
   "execution_count": 1,
   "id": "6f9fbf61-f277-40f3-8bfe-6d07418d0beb",
   "metadata": {},
   "outputs": [
    {
     "ename": "ModuleNotFoundError",
     "evalue": "No module named 'psycopg2'",
     "output_type": "error",
     "traceback": [
      "\u001b[1;31m---------------------------------------------------------------------------\u001b[0m",
      "\u001b[1;31mModuleNotFoundError\u001b[0m                       Traceback (most recent call last)",
      "Cell \u001b[1;32mIn[1], line 1\u001b[0m\n\u001b[1;32m----> 1\u001b[0m \u001b[38;5;28;01mimport\u001b[39;00m\u001b[38;5;250m \u001b[39m\u001b[38;5;21;01mpsycopg2\u001b[39;00m\n\u001b[0;32m      2\u001b[0m \u001b[38;5;28;01mimport\u001b[39;00m\u001b[38;5;250m \u001b[39m\u001b[38;5;21;01mpandas\u001b[39;00m\u001b[38;5;250m \u001b[39m\u001b[38;5;28;01mas\u001b[39;00m\u001b[38;5;250m \u001b[39m\u001b[38;5;21;01mpd\u001b[39;00m\n\u001b[0;32m      4\u001b[0m \u001b[38;5;66;03m# Connexion à la base de données PostgreSQL\u001b[39;00m\n",
      "\u001b[1;31mModuleNotFoundError\u001b[0m: No module named 'psycopg2'"
     ]
    }
   ],
   "source": [
    "import psycopg2\n",
    "import pandas as pd\n",
    "\n",
    "# Connexion à la base de données PostgreSQL\n",
    "def connect_db():\n",
    "    try:\n",
    "        conn = psycopg2.connect(\n",
    "            dbname=\"gestion_gab\",\n",
    "            user=\"admin_gab\",\n",
    "            password=\"gab1234\",\n",
    "            host=\"localhost\",\n",
    "            port=\"5432\"\n",
    "        )\n",
    "        return conn\n",
    "    except Exception as e:\n",
    "        print(\"Erreur de connexion :\", e)\n",
    "        return None\n",
    "\n",
    "# Fonction pour récupérer les transactions GAB\n",
    "def get_transactions():\n",
    "    conn = connect_db()\n",
    "    if conn:\n",
    "        query = \"SELECT * FROM transactions_gab;\"\n",
    "        df = pd.read_sql(query, conn)\n",
    "        conn.close()\n",
    "        return df\n",
    "\n",
    "# Tester la connexion et afficher les transactions\n",
    "transactions = get_transactions()\n",
    "transactions.head()  # Afficher les 5 premières lignes\n"
   ]
  }
 ],
 "metadata": {
  "kernelspec": {
   "display_name": "Python 3 (ipykernel)",
   "language": "python",
   "name": "python3"
  },
  "language_info": {
   "codemirror_mode": {
    "name": "ipython",
    "version": 3
   },
   "file_extension": ".py",
   "mimetype": "text/x-python",
   "name": "python",
   "nbconvert_exporter": "python",
   "pygments_lexer": "ipython3",
   "version": "3.13.1"
  }
 },
 "nbformat": 4,
 "nbformat_minor": 5
}
